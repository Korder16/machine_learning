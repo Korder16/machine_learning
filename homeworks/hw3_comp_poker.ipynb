{
 "cells": [
  {
   "cell_type": "code",
   "execution_count": 194,
   "metadata": {},
   "outputs": [],
   "source": [
    "import numpy as np\n",
    "import pandas as pd\n",
    "import matplotlib.pyplot as plt"
   ]
  },
  {
   "cell_type": "code",
   "execution_count": 195,
   "metadata": {},
   "outputs": [],
   "source": [
    "df_train = pd.read_csv('poker-hand-training-true.data')\n",
    "df_test = pd.read_csv('poker-hand-testing.data')"
   ]
  },
  {
   "cell_type": "code",
   "execution_count": 196,
   "metadata": {},
   "outputs": [
    {
     "data": {
      "text/html": [
       "<div>\n",
       "<style scoped>\n",
       "    .dataframe tbody tr th:only-of-type {\n",
       "        vertical-align: middle;\n",
       "    }\n",
       "\n",
       "    .dataframe tbody tr th {\n",
       "        vertical-align: top;\n",
       "    }\n",
       "\n",
       "    .dataframe thead th {\n",
       "        text-align: right;\n",
       "    }\n",
       "</style>\n",
       "<table border=\"1\" class=\"dataframe\">\n",
       "  <thead>\n",
       "    <tr style=\"text-align: right;\">\n",
       "      <th></th>\n",
       "      <th>1</th>\n",
       "      <th>10</th>\n",
       "      <th>1.1</th>\n",
       "      <th>11</th>\n",
       "      <th>1.2</th>\n",
       "      <th>13</th>\n",
       "      <th>1.3</th>\n",
       "      <th>12</th>\n",
       "      <th>1.4</th>\n",
       "      <th>1.5</th>\n",
       "      <th>9</th>\n",
       "    </tr>\n",
       "  </thead>\n",
       "  <tbody>\n",
       "    <tr>\n",
       "      <th>19537</th>\n",
       "      <td>2</td>\n",
       "      <td>10</td>\n",
       "      <td>4</td>\n",
       "      <td>9</td>\n",
       "      <td>2</td>\n",
       "      <td>6</td>\n",
       "      <td>1</td>\n",
       "      <td>5</td>\n",
       "      <td>4</td>\n",
       "      <td>2</td>\n",
       "      <td>0</td>\n",
       "    </tr>\n",
       "    <tr>\n",
       "      <th>20870</th>\n",
       "      <td>1</td>\n",
       "      <td>8</td>\n",
       "      <td>3</td>\n",
       "      <td>7</td>\n",
       "      <td>3</td>\n",
       "      <td>5</td>\n",
       "      <td>2</td>\n",
       "      <td>4</td>\n",
       "      <td>3</td>\n",
       "      <td>2</td>\n",
       "      <td>0</td>\n",
       "    </tr>\n",
       "    <tr>\n",
       "      <th>6482</th>\n",
       "      <td>2</td>\n",
       "      <td>9</td>\n",
       "      <td>4</td>\n",
       "      <td>6</td>\n",
       "      <td>3</td>\n",
       "      <td>12</td>\n",
       "      <td>4</td>\n",
       "      <td>12</td>\n",
       "      <td>1</td>\n",
       "      <td>10</td>\n",
       "      <td>1</td>\n",
       "    </tr>\n",
       "    <tr>\n",
       "      <th>19058</th>\n",
       "      <td>4</td>\n",
       "      <td>11</td>\n",
       "      <td>1</td>\n",
       "      <td>8</td>\n",
       "      <td>4</td>\n",
       "      <td>10</td>\n",
       "      <td>2</td>\n",
       "      <td>7</td>\n",
       "      <td>1</td>\n",
       "      <td>5</td>\n",
       "      <td>0</td>\n",
       "    </tr>\n",
       "    <tr>\n",
       "      <th>12465</th>\n",
       "      <td>4</td>\n",
       "      <td>6</td>\n",
       "      <td>3</td>\n",
       "      <td>7</td>\n",
       "      <td>3</td>\n",
       "      <td>5</td>\n",
       "      <td>3</td>\n",
       "      <td>4</td>\n",
       "      <td>4</td>\n",
       "      <td>9</td>\n",
       "      <td>0</td>\n",
       "    </tr>\n",
       "  </tbody>\n",
       "</table>\n",
       "</div>"
      ],
      "text/plain": [
       "       1  10  1.1  11  1.2  13  1.3  12  1.4  1.5  9\n",
       "19537  2  10    4   9    2   6    1   5    4    2  0\n",
       "20870  1   8    3   7    3   5    2   4    3    2  0\n",
       "6482   2   9    4   6    3  12    4  12    1   10  1\n",
       "19058  4  11    1   8    4  10    2   7    1    5  0\n",
       "12465  4   6    3   7    3   5    3   4    4    9  0"
      ]
     },
     "execution_count": 196,
     "metadata": {},
     "output_type": "execute_result"
    }
   ],
   "source": [
    "df_train = df_train.sample(frac=1, random_state=42) # перемешать данные\n",
    "\n",
    "df_train.head()"
   ]
  },
  {
   "cell_type": "code",
   "execution_count": 212,
   "metadata": {},
   "outputs": [],
   "source": [
    "#train_number = round(df.shape[0] * TRAIN_RATIO)\n",
    "\n",
    "# train\n",
    "X_train = df_train.drop(['9'], axis=1).values\n",
    "y_train = df_train['9'].values\n",
    "\n",
    "# test\n",
    "X_test = df_test.drop(['0'], axis=1).iloc[:100000].values\n",
    "y_test = df_test['0'].iloc[:100000].values"
   ]
  },
  {
   "cell_type": "markdown",
   "metadata": {},
   "source": [
    "Создание модели"
   ]
  },
  {
   "cell_type": "code",
   "execution_count": 218,
   "metadata": {},
   "outputs": [],
   "source": [
    "from sklearn.neighbors import KNeighborsClassifier\n",
    "from sklearn.ensemble import RandomForestClassifier\n",
    "from sklearn.linear_model import LogisticRegression\n",
    "from sklearn.naive_bayes import MultinomialNB\n",
    "from sklearn.linear_model import SGDClassifier\n",
    "from sklearn.pipeline import Pipeline\n",
    "from sklearn import svm\n",
    "#from sklearn.decomposition import LatentDirichletAllocation\n",
    "from sklearn.discriminant_analysis import LinearDiscriminantAnalysis\n",
    "from sklearn.tree import DecisionTreeRegressor"
   ]
  },
  {
   "cell_type": "code",
   "execution_count": 219,
   "metadata": {},
   "outputs": [
    {
     "name": "stderr",
     "output_type": "stream",
     "text": [
      "c:\\users\\islam\\appdata\\local\\programs\\python\\python37-32\\lib\\site-packages\\sklearn\\linear_model\\logistic.py:432: FutureWarning: Default solver will be changed to 'lbfgs' in 0.22. Specify a solver to silence this warning.\n",
      "  FutureWarning)\n",
      "c:\\users\\islam\\appdata\\local\\programs\\python\\python37-32\\lib\\site-packages\\sklearn\\linear_model\\logistic.py:459: FutureWarning: Default multi_class will be changed to 'auto' in 0.22. Specify the multi_class option to silence this warning.\n",
      "  \"this warning.\", FutureWarning)\n",
      "c:\\users\\islam\\appdata\\local\\programs\\python\\python37-32\\lib\\site-packages\\sklearn\\ensemble\\forest.py:248: FutureWarning: The default value of n_estimators will change from 10 in version 0.20 to 100 in 0.22.\n",
      "  \"10 in version 0.20 to 100 in 0.22.\", FutureWarning)\n"
     ]
    },
    {
     "data": {
      "text/plain": [
       "DecisionTreeRegressor(criterion='mse', max_depth=None, max_features=None,\n",
       "           max_leaf_nodes=None, min_impurity_decrease=0.0,\n",
       "           min_impurity_split=None, min_samples_leaf=1,\n",
       "           min_samples_split=2, min_weight_fraction_leaf=0.0,\n",
       "           presort=False, random_state=None, splitter='best')"
      ]
     },
     "execution_count": 219,
     "metadata": {},
     "output_type": "execute_result"
    }
   ],
   "source": [
    "clf = LogisticRegression() # создание модели\n",
    "clf.fit(X_train, y_train) # обучение\n",
    "\n",
    "dd = RandomForestClassifier()\n",
    "dd.fit(X_train, y_train)\n",
    "\n",
    "#ff = KNeighborsClassifier()\n",
    "#ff.fit(X_train, y_train)\n",
    "\n",
    "#clf2 = MultinomialNB()\n",
    "#clf2.fit(X_train, y_train)\n",
    "\n",
    "#clf3 = SGDClassifier()\n",
    "#clf3.fit(X_train, y_train)\n",
    "\n",
    "#clf4 = svm.SVC()\n",
    "#clf4.fit(X_train, y_train)\n",
    "\n",
    "clf5 = LinearDiscriminantAnalysis()\n",
    "clf5.fit(X_train, y_train)\n",
    "\n",
    "clf6 = DecisionTreeRegressor()\n",
    "clf6.fit(X_train, y_train)"
   ]
  },
  {
   "cell_type": "markdown",
   "metadata": {},
   "source": [
    "Оценка модели"
   ]
  },
  {
   "cell_type": "code",
   "execution_count": 220,
   "metadata": {},
   "outputs": [
    {
     "name": "stdout",
     "output_type": "stream",
     "text": [
      "Logistic regretion:\n",
      "Train score: 0.4995401655404055\n",
      "Test score: 0.50099\n",
      "\n",
      "Random Forest Classifier:\n",
      "Train score: 0.9832060458235036\n",
      "Test score: 0.558\n",
      "\n",
      "LinearDiscriminantAnalysis:\n",
      "Train score: 0.4995401655404055\n",
      "Test score: 0.50099\n",
      "\n",
      "DecisionTreeRegressor:\n",
      "Train score: 1.0\n",
      "Test score: -0.8736757110178972\n"
     ]
    }
   ],
   "source": [
    "print(\"Logistic regretion:\\nTrain score: {}\".format(clf.score(X_train, y_train)))\n",
    "print(\"Test score: {}\".format(clf.score(X_test, y_test)))\n",
    "\n",
    "print(\"\\nRandom Forest Classifier:\\nTrain score: {}\".format(dd.score(X_train, y_train)))\n",
    "print(\"Test score: {}\".format(dd.score(X_test, y_test)))\n",
    "\n",
    "#print(\"\\nNaive Bayes:\\nTrain score: {}\".format(clf2.score(X_train, y_train)))\n",
    "#print(\"Test score: {}\".format(clf2.score(X_test, y_test)))\n",
    "\n",
    "#print(\"\\nSGDClassifier:\\nTrain score: {}\".format(clf3.score(X_train, y_train)))\n",
    "#print(\"Test score: {}\".format(clf3.score(X_test, y_test)))\n",
    "\n",
    "#print(\"\\nSVM:\\nTrain score: {}\".format(clf4.score(X_train, y_train)))\n",
    "#print(\"Test score: {}\".format(clf4.score(X_test, y_test)))\n",
    "\n",
    "print(\"\\nLinearDiscriminantAnalysis:\\nTrain score: {}\".format(clf5.score(X_train, y_train)))\n",
    "print(\"Test score: {}\".format(clf5.score(X_test, y_test)))\n",
    "\n",
    "print(\"\\nDecisionTreeRegressor:\\nTrain score: {}\".format(clf6.score(X_train, y_train)))\n",
    "print(\"Test score: {}\".format(clf6.score(X_test, y_test)))\n"
   ]
  },
  {
   "cell_type": "code",
   "execution_count": null,
   "metadata": {},
   "outputs": [],
   "source": []
  }
 ],
 "metadata": {
  "kernelspec": {
   "display_name": "Python 3",
   "language": "python",
   "name": "python3"
  },
  "language_info": {
   "codemirror_mode": {
    "name": "ipython",
    "version": 3
   },
   "file_extension": ".py",
   "mimetype": "text/x-python",
   "name": "python",
   "nbconvert_exporter": "python",
   "pygments_lexer": "ipython3",
   "version": "3.7.0"
  }
 },
 "nbformat": 4,
 "nbformat_minor": 2
}
