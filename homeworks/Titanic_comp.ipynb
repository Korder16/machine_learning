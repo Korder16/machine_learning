{
 "cells": [
  {
   "cell_type": "code",
   "execution_count": 408,
   "metadata": {},
   "outputs": [],
   "source": [
    "import numpy as np\n",
    "import pandas as pd"
   ]
  },
  {
   "cell_type": "code",
   "execution_count": 409,
   "metadata": {},
   "outputs": [],
   "source": [
    "df_train = pd.read_csv('data/titanic_train.csv')\n",
    "df_test = pd.read_csv('data/titanic_test.csv')"
   ]
  },
  {
   "cell_type": "markdown",
   "metadata": {},
   "source": [
    "<h1>Убираем все NaN</h1>"
   ]
  },
  {
   "cell_type": "code",
   "execution_count": 410,
   "metadata": {
    "scrolled": true
   },
   "outputs": [
    {
     "data": {
      "text/plain": [
       "Unnamed: 0       0\n",
       "PassengerId      0\n",
       "Survived         0\n",
       "Pclass           0\n",
       "Name             0\n",
       "Sex              0\n",
       "Age            160\n",
       "SibSp            0\n",
       "Parch            0\n",
       "Ticket           0\n",
       "Fare             0\n",
       "Cabin          617\n",
       "Embarked         2\n",
       "dtype: int64"
      ]
     },
     "execution_count": 410,
     "metadata": {},
     "output_type": "execute_result"
    }
   ],
   "source": [
    "df_train.isna().sum()"
   ]
  },
  {
   "cell_type": "code",
   "execution_count": 411,
   "metadata": {
    "scrolled": true
   },
   "outputs": [
    {
     "data": {
      "text/plain": [
       "Unnamed: 0      0\n",
       "PassengerId     0\n",
       "Survived        0\n",
       "Pclass          0\n",
       "Name            0\n",
       "Sex             0\n",
       "Age            17\n",
       "SibSp           0\n",
       "Parch           0\n",
       "Ticket          0\n",
       "Fare            0\n",
       "Cabin          70\n",
       "Embarked        0\n",
       "dtype: int64"
      ]
     },
     "execution_count": 411,
     "metadata": {},
     "output_type": "execute_result"
    }
   ],
   "source": [
    "df_test.isna().sum()"
   ]
  },
  {
   "cell_type": "markdown",
   "metadata": {},
   "source": [
    "<h2>Дропаем столбецы Cabin, Unnamed, PassengerId, Name, Ticket</h2>"
   ]
  },
  {
   "cell_type": "code",
   "execution_count": 412,
   "metadata": {},
   "outputs": [],
   "source": [
    "# Столбец Cabin\n",
    "df_train_withoutNa = df_train.drop(['Cabin'], axis=1)\n",
    "df_test_withoutNa = df_test.drop(['Cabin'], axis=1)\n",
    "\n",
    "# Стоблец Unnamed\n",
    "df_train_withoutNa = df_train_withoutNa.drop([\"Unnamed: 0\"], axis=1)\n",
    "df_test_withoutNa = df_test_withoutNa.drop([\"Unnamed: 0\"], axis=1)\n",
    "\n",
    "# Столбец PassengerId\n",
    "df_train_withoutNa = df_train_withoutNa.drop([\"PassengerId\"], axis=1)\n",
    "df_test_withoutNa = df_test_withoutNa.drop([\"PassengerId\"], axis=1)\n",
    "\n",
    "# Столбец PassengerId\n",
    "df_train_withoutNa = df_train_withoutNa.drop([\"Name\"], axis=1)\n",
    "df_test_withoutNa = df_test_withoutNa.drop([\"Name\"], axis=1)\n",
    "\n",
    "# Столбец Ticket\n",
    "df_train_withoutNa = df_train_withoutNa.drop([\"Ticket\"], axis=1)\n",
    "df_test_withoutNa = df_test_withoutNa.drop([\"Ticket\"], axis=1)"
   ]
  },
  {
   "cell_type": "code",
   "execution_count": 413,
   "metadata": {},
   "outputs": [
    {
     "data": {
      "text/html": [
       "<div>\n",
       "<style scoped>\n",
       "    .dataframe tbody tr th:only-of-type {\n",
       "        vertical-align: middle;\n",
       "    }\n",
       "\n",
       "    .dataframe tbody tr th {\n",
       "        vertical-align: top;\n",
       "    }\n",
       "\n",
       "    .dataframe thead th {\n",
       "        text-align: right;\n",
       "    }\n",
       "</style>\n",
       "<table border=\"1\" class=\"dataframe\">\n",
       "  <thead>\n",
       "    <tr style=\"text-align: right;\">\n",
       "      <th></th>\n",
       "      <th>Survived</th>\n",
       "      <th>Pclass</th>\n",
       "      <th>Sex</th>\n",
       "      <th>Age</th>\n",
       "      <th>SibSp</th>\n",
       "      <th>Parch</th>\n",
       "      <th>Fare</th>\n",
       "      <th>Embarked</th>\n",
       "    </tr>\n",
       "  </thead>\n",
       "  <tbody>\n",
       "    <tr>\n",
       "      <th>0</th>\n",
       "      <td>1</td>\n",
       "      <td>3</td>\n",
       "      <td>male</td>\n",
       "      <td>NaN</td>\n",
       "      <td>1</td>\n",
       "      <td>1</td>\n",
       "      <td>15.2458</td>\n",
       "      <td>C</td>\n",
       "    </tr>\n",
       "    <tr>\n",
       "      <th>1</th>\n",
       "      <td>0</td>\n",
       "      <td>2</td>\n",
       "      <td>male</td>\n",
       "      <td>31.0</td>\n",
       "      <td>0</td>\n",
       "      <td>0</td>\n",
       "      <td>10.5000</td>\n",
       "      <td>S</td>\n",
       "    </tr>\n",
       "    <tr>\n",
       "      <th>2</th>\n",
       "      <td>0</td>\n",
       "      <td>3</td>\n",
       "      <td>male</td>\n",
       "      <td>20.0</td>\n",
       "      <td>0</td>\n",
       "      <td>0</td>\n",
       "      <td>7.9250</td>\n",
       "      <td>S</td>\n",
       "    </tr>\n",
       "    <tr>\n",
       "      <th>3</th>\n",
       "      <td>1</td>\n",
       "      <td>2</td>\n",
       "      <td>female</td>\n",
       "      <td>6.0</td>\n",
       "      <td>0</td>\n",
       "      <td>1</td>\n",
       "      <td>33.0000</td>\n",
       "      <td>S</td>\n",
       "    </tr>\n",
       "    <tr>\n",
       "      <th>4</th>\n",
       "      <td>1</td>\n",
       "      <td>3</td>\n",
       "      <td>female</td>\n",
       "      <td>14.0</td>\n",
       "      <td>1</td>\n",
       "      <td>0</td>\n",
       "      <td>11.2417</td>\n",
       "      <td>C</td>\n",
       "    </tr>\n",
       "  </tbody>\n",
       "</table>\n",
       "</div>"
      ],
      "text/plain": [
       "   Survived  Pclass     Sex   Age  SibSp  Parch     Fare Embarked\n",
       "0         1       3    male   NaN      1      1  15.2458        C\n",
       "1         0       2    male  31.0      0      0  10.5000        S\n",
       "2         0       3    male  20.0      0      0   7.9250        S\n",
       "3         1       2  female   6.0      0      1  33.0000        S\n",
       "4         1       3  female  14.0      1      0  11.2417        C"
      ]
     },
     "execution_count": 413,
     "metadata": {},
     "output_type": "execute_result"
    }
   ],
   "source": [
    "df_train_withoutNa.head()"
   ]
  },
  {
   "cell_type": "markdown",
   "metadata": {},
   "source": [
    "<h2>Заполняем возраст средним</h2>"
   ]
  },
  {
   "cell_type": "code",
   "execution_count": 414,
   "metadata": {},
   "outputs": [],
   "source": [
    "df_train_withoutNa['Age'] = df_train_withoutNa['Age'].fillna(df_train_withoutNa['Age'].mean())\n",
    "df_test_withoutNa['Age'] = df_test_withoutNa['Age'].fillna(df_test_withoutNa['Age'].mean())"
   ]
  },
  {
   "cell_type": "code",
   "execution_count": 415,
   "metadata": {
    "scrolled": true
   },
   "outputs": [
    {
     "data": {
      "text/plain": [
       "Survived    0\n",
       "Pclass      0\n",
       "Sex         0\n",
       "Age         0\n",
       "SibSp       0\n",
       "Parch       0\n",
       "Fare        0\n",
       "Embarked    2\n",
       "dtype: int64"
      ]
     },
     "execution_count": 415,
     "metadata": {},
     "output_type": "execute_result"
    }
   ],
   "source": [
    "df_train_withoutNa.isna().sum()"
   ]
  },
  {
   "cell_type": "code",
   "execution_count": 416,
   "metadata": {},
   "outputs": [
    {
     "data": {
      "text/plain": [
       "Survived    0\n",
       "Pclass      0\n",
       "Sex         0\n",
       "Age         0\n",
       "SibSp       0\n",
       "Parch       0\n",
       "Fare        0\n",
       "Embarked    0\n",
       "dtype: int64"
      ]
     },
     "execution_count": 416,
     "metadata": {},
     "output_type": "execute_result"
    }
   ],
   "source": [
    "df_test_withoutNa.isna().sum()"
   ]
  },
  {
   "cell_type": "code",
   "execution_count": 417,
   "metadata": {},
   "outputs": [],
   "source": [
    "temp = df_train_withoutNa['Embarked'].dropna() # сброс рядов со значениями NaN"
   ]
  },
  {
   "cell_type": "code",
   "execution_count": 418,
   "metadata": {},
   "outputs": [],
   "source": [
    "df_train_withoutNa = df_train_withoutNa.dropna(axis = 0)\n",
    "#236"
   ]
  },
  {
   "cell_type": "code",
   "execution_count": 419,
   "metadata": {
    "scrolled": true
   },
   "outputs": [
    {
     "data": {
      "text/html": [
       "<div>\n",
       "<style scoped>\n",
       "    .dataframe tbody tr th:only-of-type {\n",
       "        vertical-align: middle;\n",
       "    }\n",
       "\n",
       "    .dataframe tbody tr th {\n",
       "        vertical-align: top;\n",
       "    }\n",
       "\n",
       "    .dataframe thead th {\n",
       "        text-align: right;\n",
       "    }\n",
       "</style>\n",
       "<table border=\"1\" class=\"dataframe\">\n",
       "  <thead>\n",
       "    <tr style=\"text-align: right;\">\n",
       "      <th></th>\n",
       "      <th>Survived</th>\n",
       "      <th>Pclass</th>\n",
       "      <th>Sex</th>\n",
       "      <th>Age</th>\n",
       "      <th>SibSp</th>\n",
       "      <th>Parch</th>\n",
       "      <th>Fare</th>\n",
       "      <th>Embarked</th>\n",
       "    </tr>\n",
       "  </thead>\n",
       "  <tbody>\n",
       "    <tr>\n",
       "      <th>0</th>\n",
       "      <td>1</td>\n",
       "      <td>3</td>\n",
       "      <td>male</td>\n",
       "      <td>29.705219</td>\n",
       "      <td>1</td>\n",
       "      <td>1</td>\n",
       "      <td>15.2458</td>\n",
       "      <td>C</td>\n",
       "    </tr>\n",
       "    <tr>\n",
       "      <th>1</th>\n",
       "      <td>0</td>\n",
       "      <td>2</td>\n",
       "      <td>male</td>\n",
       "      <td>31.000000</td>\n",
       "      <td>0</td>\n",
       "      <td>0</td>\n",
       "      <td>10.5000</td>\n",
       "      <td>S</td>\n",
       "    </tr>\n",
       "    <tr>\n",
       "      <th>2</th>\n",
       "      <td>0</td>\n",
       "      <td>3</td>\n",
       "      <td>male</td>\n",
       "      <td>20.000000</td>\n",
       "      <td>0</td>\n",
       "      <td>0</td>\n",
       "      <td>7.9250</td>\n",
       "      <td>S</td>\n",
       "    </tr>\n",
       "    <tr>\n",
       "      <th>3</th>\n",
       "      <td>1</td>\n",
       "      <td>2</td>\n",
       "      <td>female</td>\n",
       "      <td>6.000000</td>\n",
       "      <td>0</td>\n",
       "      <td>1</td>\n",
       "      <td>33.0000</td>\n",
       "      <td>S</td>\n",
       "    </tr>\n",
       "    <tr>\n",
       "      <th>4</th>\n",
       "      <td>1</td>\n",
       "      <td>3</td>\n",
       "      <td>female</td>\n",
       "      <td>14.000000</td>\n",
       "      <td>1</td>\n",
       "      <td>0</td>\n",
       "      <td>11.2417</td>\n",
       "      <td>C</td>\n",
       "    </tr>\n",
       "  </tbody>\n",
       "</table>\n",
       "</div>"
      ],
      "text/plain": [
       "   Survived  Pclass     Sex        Age  SibSp  Parch     Fare Embarked\n",
       "0         1       3    male  29.705219      1      1  15.2458        C\n",
       "1         0       2    male  31.000000      0      0  10.5000        S\n",
       "2         0       3    male  20.000000      0      0   7.9250        S\n",
       "3         1       2  female   6.000000      0      1  33.0000        S\n",
       "4         1       3  female  14.000000      1      0  11.2417        C"
      ]
     },
     "execution_count": 419,
     "metadata": {},
     "output_type": "execute_result"
    }
   ],
   "source": [
    "df_train_withoutNa.head()"
   ]
  },
  {
   "cell_type": "code",
   "execution_count": 420,
   "metadata": {},
   "outputs": [
    {
     "data": {
      "text/plain": [
       "Survived    0\n",
       "Pclass      0\n",
       "Sex         0\n",
       "Age         0\n",
       "SibSp       0\n",
       "Parch       0\n",
       "Fare        0\n",
       "Embarked    0\n",
       "dtype: int64"
      ]
     },
     "execution_count": 420,
     "metadata": {},
     "output_type": "execute_result"
    }
   ],
   "source": [
    "df_train_withoutNa.isna().sum()"
   ]
  },
  {
   "cell_type": "markdown",
   "metadata": {},
   "source": [
    "<h2>Разбиваем столбцы</h2>"
   ]
  },
  {
   "cell_type": "code",
   "execution_count": 421,
   "metadata": {},
   "outputs": [],
   "source": [
    "df_train_withoutNa_copy = df_train_withoutNa\n",
    "df_test_withoutNa_copy = df_test_withoutNa"
   ]
  },
  {
   "cell_type": "code",
   "execution_count": 422,
   "metadata": {},
   "outputs": [],
   "source": [
    "# Столбец Sex\n",
    "df_train_withoutNa = pd.concat([df_train_withoutNa.drop(['Sex'], axis=1), pd.get_dummies(df_train_withoutNa['Sex'])], axis=1)\n",
    "df_test_withoutNa = pd.concat([df_test_withoutNa.drop(['Sex'], axis=1), pd.get_dummies(df_test_withoutNa['Sex'])], axis=1)\n",
    "\n",
    "# Стоблец Embarked\n",
    "df_train_withoutNa = pd.concat([df_train_withoutNa.drop(['Embarked'], axis=1), \n",
    "                                pd.get_dummies(df_train_withoutNa['Embarked'])], axis=1)\n",
    "\n",
    "df_test_withoutNa = pd.concat([df_test_withoutNa.drop(['Embarked'], axis=1), \n",
    "                                pd.get_dummies(df_test_withoutNa['Embarked'])], axis=1)\n",
    "\n",
    "# Столбец Pclass\n",
    "df_train_withoutNa = pd.concat([df_train_withoutNa.drop(['Pclass'], axis=1), \n",
    "                                pd.get_dummies(df_train_withoutNa['Pclass'])], axis=1)\n",
    "\n",
    "df_test_withoutNa = pd.concat([df_test_withoutNa.drop(['Pclass'], axis=1), \n",
    "                                pd.get_dummies(df_test_withoutNa['Pclass'])], axis=1)"
   ]
  },
  {
   "cell_type": "code",
   "execution_count": 423,
   "metadata": {
    "scrolled": false
   },
   "outputs": [
    {
     "data": {
      "text/html": [
       "<div>\n",
       "<style scoped>\n",
       "    .dataframe tbody tr th:only-of-type {\n",
       "        vertical-align: middle;\n",
       "    }\n",
       "\n",
       "    .dataframe tbody tr th {\n",
       "        vertical-align: top;\n",
       "    }\n",
       "\n",
       "    .dataframe thead th {\n",
       "        text-align: right;\n",
       "    }\n",
       "</style>\n",
       "<table border=\"1\" class=\"dataframe\">\n",
       "  <thead>\n",
       "    <tr style=\"text-align: right;\">\n",
       "      <th></th>\n",
       "      <th>Survived</th>\n",
       "      <th>Age</th>\n",
       "      <th>SibSp</th>\n",
       "      <th>Parch</th>\n",
       "      <th>Fare</th>\n",
       "      <th>female</th>\n",
       "      <th>male</th>\n",
       "      <th>C</th>\n",
       "      <th>Q</th>\n",
       "      <th>S</th>\n",
       "      <th>1</th>\n",
       "      <th>2</th>\n",
       "      <th>3</th>\n",
       "    </tr>\n",
       "  </thead>\n",
       "  <tbody>\n",
       "    <tr>\n",
       "      <th>0</th>\n",
       "      <td>1</td>\n",
       "      <td>29.705219</td>\n",
       "      <td>1</td>\n",
       "      <td>1</td>\n",
       "      <td>15.2458</td>\n",
       "      <td>0</td>\n",
       "      <td>1</td>\n",
       "      <td>1</td>\n",
       "      <td>0</td>\n",
       "      <td>0</td>\n",
       "      <td>0</td>\n",
       "      <td>0</td>\n",
       "      <td>1</td>\n",
       "    </tr>\n",
       "    <tr>\n",
       "      <th>1</th>\n",
       "      <td>0</td>\n",
       "      <td>31.000000</td>\n",
       "      <td>0</td>\n",
       "      <td>0</td>\n",
       "      <td>10.5000</td>\n",
       "      <td>0</td>\n",
       "      <td>1</td>\n",
       "      <td>0</td>\n",
       "      <td>0</td>\n",
       "      <td>1</td>\n",
       "      <td>0</td>\n",
       "      <td>1</td>\n",
       "      <td>0</td>\n",
       "    </tr>\n",
       "    <tr>\n",
       "      <th>2</th>\n",
       "      <td>0</td>\n",
       "      <td>20.000000</td>\n",
       "      <td>0</td>\n",
       "      <td>0</td>\n",
       "      <td>7.9250</td>\n",
       "      <td>0</td>\n",
       "      <td>1</td>\n",
       "      <td>0</td>\n",
       "      <td>0</td>\n",
       "      <td>1</td>\n",
       "      <td>0</td>\n",
       "      <td>0</td>\n",
       "      <td>1</td>\n",
       "    </tr>\n",
       "    <tr>\n",
       "      <th>3</th>\n",
       "      <td>1</td>\n",
       "      <td>6.000000</td>\n",
       "      <td>0</td>\n",
       "      <td>1</td>\n",
       "      <td>33.0000</td>\n",
       "      <td>1</td>\n",
       "      <td>0</td>\n",
       "      <td>0</td>\n",
       "      <td>0</td>\n",
       "      <td>1</td>\n",
       "      <td>0</td>\n",
       "      <td>1</td>\n",
       "      <td>0</td>\n",
       "    </tr>\n",
       "    <tr>\n",
       "      <th>4</th>\n",
       "      <td>1</td>\n",
       "      <td>14.000000</td>\n",
       "      <td>1</td>\n",
       "      <td>0</td>\n",
       "      <td>11.2417</td>\n",
       "      <td>1</td>\n",
       "      <td>0</td>\n",
       "      <td>1</td>\n",
       "      <td>0</td>\n",
       "      <td>0</td>\n",
       "      <td>0</td>\n",
       "      <td>0</td>\n",
       "      <td>1</td>\n",
       "    </tr>\n",
       "  </tbody>\n",
       "</table>\n",
       "</div>"
      ],
      "text/plain": [
       "   Survived        Age  SibSp  Parch     Fare  female  male  C  Q  S  1  2  3\n",
       "0         1  29.705219      1      1  15.2458       0     1  1  0  0  0  0  1\n",
       "1         0  31.000000      0      0  10.5000       0     1  0  0  1  0  1  0\n",
       "2         0  20.000000      0      0   7.9250       0     1  0  0  1  0  0  1\n",
       "3         1   6.000000      0      1  33.0000       1     0  0  0  1  0  1  0\n",
       "4         1  14.000000      1      0  11.2417       1     0  1  0  0  0  0  1"
      ]
     },
     "execution_count": 423,
     "metadata": {},
     "output_type": "execute_result"
    }
   ],
   "source": [
    "df_train_withoutNa.head()"
   ]
  },
  {
   "cell_type": "code",
   "execution_count": 424,
   "metadata": {
    "scrolled": true
   },
   "outputs": [
    {
     "data": {
      "text/html": [
       "<div>\n",
       "<style scoped>\n",
       "    .dataframe tbody tr th:only-of-type {\n",
       "        vertical-align: middle;\n",
       "    }\n",
       "\n",
       "    .dataframe tbody tr th {\n",
       "        vertical-align: top;\n",
       "    }\n",
       "\n",
       "    .dataframe thead th {\n",
       "        text-align: right;\n",
       "    }\n",
       "</style>\n",
       "<table border=\"1\" class=\"dataframe\">\n",
       "  <thead>\n",
       "    <tr style=\"text-align: right;\">\n",
       "      <th></th>\n",
       "      <th>Survived</th>\n",
       "      <th>Age</th>\n",
       "      <th>SibSp</th>\n",
       "      <th>Parch</th>\n",
       "      <th>Fare</th>\n",
       "      <th>female</th>\n",
       "      <th>male</th>\n",
       "      <th>C</th>\n",
       "      <th>Q</th>\n",
       "      <th>S</th>\n",
       "      <th>1</th>\n",
       "      <th>2</th>\n",
       "      <th>3</th>\n",
       "    </tr>\n",
       "  </thead>\n",
       "  <tbody>\n",
       "    <tr>\n",
       "      <th>0</th>\n",
       "      <td>1</td>\n",
       "      <td>35.000000</td>\n",
       "      <td>0</td>\n",
       "      <td>0</td>\n",
       "      <td>135.6333</td>\n",
       "      <td>1</td>\n",
       "      <td>0</td>\n",
       "      <td>0</td>\n",
       "      <td>0</td>\n",
       "      <td>1</td>\n",
       "      <td>1</td>\n",
       "      <td>0</td>\n",
       "      <td>0</td>\n",
       "    </tr>\n",
       "    <tr>\n",
       "      <th>1</th>\n",
       "      <td>0</td>\n",
       "      <td>29.646351</td>\n",
       "      <td>8</td>\n",
       "      <td>2</td>\n",
       "      <td>69.5500</td>\n",
       "      <td>0</td>\n",
       "      <td>1</td>\n",
       "      <td>0</td>\n",
       "      <td>0</td>\n",
       "      <td>1</td>\n",
       "      <td>0</td>\n",
       "      <td>0</td>\n",
       "      <td>1</td>\n",
       "    </tr>\n",
       "    <tr>\n",
       "      <th>2</th>\n",
       "      <td>1</td>\n",
       "      <td>40.000000</td>\n",
       "      <td>0</td>\n",
       "      <td>0</td>\n",
       "      <td>15.7500</td>\n",
       "      <td>1</td>\n",
       "      <td>0</td>\n",
       "      <td>0</td>\n",
       "      <td>0</td>\n",
       "      <td>1</td>\n",
       "      <td>0</td>\n",
       "      <td>1</td>\n",
       "      <td>0</td>\n",
       "    </tr>\n",
       "    <tr>\n",
       "      <th>3</th>\n",
       "      <td>0</td>\n",
       "      <td>62.000000</td>\n",
       "      <td>0</td>\n",
       "      <td>0</td>\n",
       "      <td>26.5500</td>\n",
       "      <td>0</td>\n",
       "      <td>1</td>\n",
       "      <td>0</td>\n",
       "      <td>0</td>\n",
       "      <td>1</td>\n",
       "      <td>1</td>\n",
       "      <td>0</td>\n",
       "      <td>0</td>\n",
       "    </tr>\n",
       "    <tr>\n",
       "      <th>4</th>\n",
       "      <td>0</td>\n",
       "      <td>25.000000</td>\n",
       "      <td>1</td>\n",
       "      <td>0</td>\n",
       "      <td>7.9250</td>\n",
       "      <td>1</td>\n",
       "      <td>0</td>\n",
       "      <td>0</td>\n",
       "      <td>0</td>\n",
       "      <td>1</td>\n",
       "      <td>0</td>\n",
       "      <td>0</td>\n",
       "      <td>1</td>\n",
       "    </tr>\n",
       "  </tbody>\n",
       "</table>\n",
       "</div>"
      ],
      "text/plain": [
       "   Survived        Age  SibSp  Parch      Fare  female  male  C  Q  S  1  2  3\n",
       "0         1  35.000000      0      0  135.6333       1     0  0  0  1  1  0  0\n",
       "1         0  29.646351      8      2   69.5500       0     1  0  0  1  0  0  1\n",
       "2         1  40.000000      0      0   15.7500       1     0  0  0  1  0  1  0\n",
       "3         0  62.000000      0      0   26.5500       0     1  0  0  1  1  0  0\n",
       "4         0  25.000000      1      0    7.9250       1     0  0  0  1  0  0  1"
      ]
     },
     "execution_count": 424,
     "metadata": {},
     "output_type": "execute_result"
    }
   ],
   "source": [
    "df_test_withoutNa.head()"
   ]
  },
  {
   "cell_type": "code",
   "execution_count": 425,
   "metadata": {},
   "outputs": [],
   "source": [
    "X_train = df_train_withoutNa.drop(['Survived'], axis=1).values\n",
    "y_train = df_train_withoutNa['Survived'].values\n",
    "\n",
    "X_test = df_test_withoutNa.drop(['Survived'], axis=1).values\n",
    "y_test = df_test_withoutNa['Survived'].values"
   ]
  },
  {
   "cell_type": "code",
   "execution_count": 426,
   "metadata": {},
   "outputs": [],
   "source": [
    "from sklearn.linear_model import LogisticRegression"
   ]
  },
  {
   "cell_type": "code",
   "execution_count": 427,
   "metadata": {},
   "outputs": [
    {
     "name": "stderr",
     "output_type": "stream",
     "text": [
      "D:\\Anaconda\\lib\\site-packages\\sklearn\\linear_model\\logistic.py:432: FutureWarning: Default solver will be changed to 'lbfgs' in 0.22. Specify a solver to silence this warning.\n",
      "  FutureWarning)\n"
     ]
    }
   ],
   "source": [
    "model = LogisticRegression().fit(X_train, y_train)"
   ]
  },
  {
   "cell_type": "code",
   "execution_count": 428,
   "metadata": {
    "scrolled": true
   },
   "outputs": [
    {
     "name": "stdout",
     "output_type": "stream",
     "text": [
      "Train R^2 score: 0.7919799498746867\n",
      "Test R^2 score: 0.8791208791208791\n"
     ]
    }
   ],
   "source": [
    "print(\"Train R^2 score: {}\".format(model.score(X_train, y_train)))\n",
    "print(\"Test R^2 score: {}\".format(model.score(X_test, y_test)))"
   ]
  },
  {
   "cell_type": "markdown",
   "metadata": {},
   "source": [
    "<h2>Используем нейросеть</h2>"
   ]
  },
  {
   "cell_type": "code",
   "execution_count": 444,
   "metadata": {},
   "outputs": [],
   "source": [
    "from keras.models import Sequential\n",
    "from keras.layers import Dense"
   ]
  },
  {
   "cell_type": "code",
   "execution_count": 451,
   "metadata": {},
   "outputs": [],
   "source": [
    "model2 = Sequential()"
   ]
  },
  {
   "cell_type": "code",
   "execution_count": 452,
   "metadata": {},
   "outputs": [],
   "source": [
    "model2.add(Dense(12, input_dim=12, activation='relu'))"
   ]
  },
  {
   "cell_type": "code",
   "execution_count": 465,
   "metadata": {},
   "outputs": [],
   "source": [
    "model2.add(Dense(64, activation='relu'))\n",
    "#model2.add(Dense(64, activation='relu'))\n",
    "#model2.add(Dense(64, activation='relu'))\n",
    "model2.add(Dense(1, activation='sigmoid'))"
   ]
  },
  {
   "cell_type": "code",
   "execution_count": 466,
   "metadata": {},
   "outputs": [],
   "source": [
    "model2.compile(loss='mean_squared_error', optimizer='adam', metrics=['accuracy'])"
   ]
  },
  {
   "cell_type": "markdown",
   "metadata": {},
   "source": [
    "<h2>Обучаем нейронную сеть</h2>"
   ]
  },
  {
   "cell_type": "code",
   "execution_count": 467,
   "metadata": {},
   "outputs": [
    {
     "name": "stdout",
     "output_type": "stream",
     "text": [
      "Epoch 1/100\n",
      "798/798 [==============================] - 1s 1ms/step - loss: 0.2200 - acc: 0.7619\n",
      "Epoch 2/100\n",
      "798/798 [==============================] - 0s 201us/step - loss: 0.2015 - acc: 0.8358\n",
      "Epoch 3/100\n",
      "798/798 [==============================] - 0s 188us/step - loss: 0.1761 - acc: 0.8571\n",
      "Epoch 4/100\n",
      "798/798 [==============================] - 0s 175us/step - loss: 0.1476 - acc: 0.8709\n",
      "Epoch 5/100\n",
      "798/798 [==============================] - 0s 188us/step - loss: 0.1354 - acc: 0.8521\n",
      "Epoch 6/100\n",
      "798/798 [==============================] - 0s 238us/step - loss: 0.1229 - acc: 0.8596\n",
      "Epoch 7/100\n",
      "798/798 [==============================] - 0s 188us/step - loss: 0.1203 - acc: 0.8496\n",
      "Epoch 8/100\n",
      "798/798 [==============================] - 0s 188us/step - loss: 0.1307 - acc: 0.8396\n",
      "Epoch 9/100\n",
      "798/798 [==============================] - 0s 301us/step - loss: 0.1252 - acc: 0.8459\n",
      "Epoch 10/100\n",
      "798/798 [==============================] - 0s 276us/step - loss: 0.1181 - acc: 0.8534\n",
      "Epoch 11/100\n",
      "798/798 [==============================] - 0s 276us/step - loss: 0.1089 - acc: 0.8622\n",
      "Epoch 12/100\n",
      "798/798 [==============================] - 0s 238us/step - loss: 0.1097 - acc: 0.8596\n",
      "Epoch 13/100\n",
      "798/798 [==============================] - 0s 213us/step - loss: 0.1064 - acc: 0.8659\n",
      "Epoch 14/100\n",
      "798/798 [==============================] - 0s 226us/step - loss: 0.1293 - acc: 0.8383\n",
      "Epoch 15/100\n",
      "798/798 [==============================] - 0s 263us/step - loss: 0.1433 - acc: 0.8158\n",
      "Epoch 16/100\n",
      "798/798 [==============================] - 0s 213us/step - loss: 0.1187 - acc: 0.8446\n",
      "Epoch 17/100\n",
      "798/798 [==============================] - 0s 201us/step - loss: 0.1084 - acc: 0.8672\n",
      "Epoch 18/100\n",
      "798/798 [==============================] - 0s 188us/step - loss: 0.1087 - acc: 0.8596\n",
      "Epoch 19/100\n",
      "798/798 [==============================] - 0s 188us/step - loss: 0.1069 - acc: 0.8659\n",
      "Epoch 20/100\n",
      "798/798 [==============================] - 0s 188us/step - loss: 0.1097 - acc: 0.8609\n",
      "Epoch 21/100\n",
      "798/798 [==============================] - 0s 201us/step - loss: 0.1039 - acc: 0.8697\n",
      "Epoch 22/100\n",
      "798/798 [==============================] - 0s 426us/step - loss: 0.1019 - acc: 0.8709\n",
      "Epoch 23/100\n",
      "798/798 [==============================] - 0s 326us/step - loss: 0.1046 - acc: 0.8647\n",
      "Epoch 24/100\n",
      "798/798 [==============================] - 0s 238us/step - loss: 0.1068 - acc: 0.8584\n",
      "Epoch 25/100\n",
      "798/798 [==============================] - 0s 163us/step - loss: 0.1132 - acc: 0.8534\n",
      "Epoch 26/100\n",
      "798/798 [==============================] - 0s 163us/step - loss: 0.1109 - acc: 0.8634\n",
      "Epoch 27/100\n",
      "798/798 [==============================] - 0s 175us/step - loss: 0.1095 - acc: 0.8584\n",
      "Epoch 28/100\n",
      "798/798 [==============================] - 0s 226us/step - loss: 0.1051 - acc: 0.8609\n",
      "Epoch 29/100\n",
      "798/798 [==============================] - 0s 263us/step - loss: 0.1111 - acc: 0.8546\n",
      "Epoch 30/100\n",
      "798/798 [==============================] - 0s 251us/step - loss: 0.1046 - acc: 0.8634\n",
      "Epoch 31/100\n",
      "798/798 [==============================] - 0s 226us/step - loss: 0.1038 - acc: 0.8647\n",
      "Epoch 32/100\n",
      "798/798 [==============================] - 0s 188us/step - loss: 0.1097 - acc: 0.8596\n",
      "Epoch 33/100\n",
      "798/798 [==============================] - 0s 238us/step - loss: 0.1100 - acc: 0.8647\n",
      "Epoch 34/100\n",
      "798/798 [==============================] - 0s 163us/step - loss: 0.1079 - acc: 0.8622\n",
      "Epoch 35/100\n",
      "798/798 [==============================] - 0s 163us/step - loss: 0.1008 - acc: 0.8697\n",
      "Epoch 36/100\n",
      "798/798 [==============================] - 0s 226us/step - loss: 0.1026 - acc: 0.8722\n",
      "Epoch 37/100\n",
      "798/798 [==============================] - 0s 150us/step - loss: 0.1035 - acc: 0.8672\n",
      "Epoch 38/100\n",
      "798/798 [==============================] - 0s 163us/step - loss: 0.1058 - acc: 0.8609\n",
      "Epoch 39/100\n",
      "798/798 [==============================] - 0s 175us/step - loss: 0.1037 - acc: 0.8634\n",
      "Epoch 40/100\n",
      "798/798 [==============================] - 0s 201us/step - loss: 0.1016 - acc: 0.8797\n",
      "Epoch 41/100\n",
      "798/798 [==============================] - 0s 163us/step - loss: 0.1075 - acc: 0.8659\n",
      "Epoch 42/100\n",
      "798/798 [==============================] - 0s 163us/step - loss: 0.1062 - acc: 0.8684\n",
      "Epoch 43/100\n",
      "798/798 [==============================] - 0s 188us/step - loss: 0.1118 - acc: 0.8609\n",
      "Epoch 44/100\n",
      "798/798 [==============================] - 0s 238us/step - loss: 0.1045 - acc: 0.8672\n",
      "Epoch 45/100\n",
      "798/798 [==============================] - 0s 163us/step - loss: 0.1024 - acc: 0.8709\n",
      "Epoch 46/100\n",
      "798/798 [==============================] - 0s 188us/step - loss: 0.0998 - acc: 0.8797\n",
      "Epoch 47/100\n",
      "798/798 [==============================] - 0s 226us/step - loss: 0.1015 - acc: 0.8709\n",
      "Epoch 48/100\n",
      "798/798 [==============================] - 0s 163us/step - loss: 0.0968 - acc: 0.8784\n",
      "Epoch 49/100\n",
      "798/798 [==============================] - 0s 163us/step - loss: 0.1003 - acc: 0.8722\n",
      "Epoch 50/100\n",
      "798/798 [==============================] - 0s 175us/step - loss: 0.0987 - acc: 0.8759\n",
      "Epoch 51/100\n",
      "798/798 [==============================] - 0s 188us/step - loss: 0.0957 - acc: 0.8759\n",
      "Epoch 52/100\n",
      "798/798 [==============================] - 0s 201us/step - loss: 0.1007 - acc: 0.8684\n",
      "Epoch 53/100\n",
      "798/798 [==============================] - 0s 188us/step - loss: 0.1001 - acc: 0.8734\n",
      "Epoch 54/100\n",
      "798/798 [==============================] - 0s 188us/step - loss: 0.1504 - acc: 0.8020\n",
      "Epoch 55/100\n",
      "798/798 [==============================] - 0s 163us/step - loss: 0.1340 - acc: 0.8258\n",
      "Epoch 56/100\n",
      "798/798 [==============================] - 0s 163us/step - loss: 0.1315 - acc: 0.8346\n",
      "Epoch 57/100\n",
      "798/798 [==============================] - 0s 188us/step - loss: 0.1145 - acc: 0.8534\n",
      "Epoch 58/100\n",
      "798/798 [==============================] - 0s 175us/step - loss: 0.1075 - acc: 0.8596\n",
      "Epoch 59/100\n",
      "798/798 [==============================] - 0s 163us/step - loss: 0.1030 - acc: 0.8672\n",
      "Epoch 60/100\n",
      "798/798 [==============================] - 0s 163us/step - loss: 0.1159 - acc: 0.8496\n",
      "Epoch 61/100\n",
      "798/798 [==============================] - 0s 188us/step - loss: 0.1117 - acc: 0.8459\n",
      "Epoch 62/100\n",
      "798/798 [==============================] - 0s 175us/step - loss: 0.1024 - acc: 0.8734\n",
      "Epoch 63/100\n",
      "798/798 [==============================] - 0s 163us/step - loss: 0.1183 - acc: 0.8496\n",
      "Epoch 64/100\n",
      "798/798 [==============================] - 0s 201us/step - loss: 0.1223 - acc: 0.8484\n",
      "Epoch 65/100\n",
      "798/798 [==============================] - 0s 163us/step - loss: 0.1094 - acc: 0.8596\n",
      "Epoch 66/100\n",
      "798/798 [==============================] - 0s 163us/step - loss: 0.1072 - acc: 0.8596\n",
      "Epoch 67/100\n",
      "798/798 [==============================] - 0s 175us/step - loss: 0.1006 - acc: 0.8772\n",
      "Epoch 68/100\n",
      "798/798 [==============================] - 0s 175us/step - loss: 0.1069 - acc: 0.8584\n",
      "Epoch 69/100\n",
      "798/798 [==============================] - 0s 163us/step - loss: 0.1033 - acc: 0.8697\n",
      "Epoch 70/100\n",
      "798/798 [==============================] - 0s 175us/step - loss: 0.1122 - acc: 0.8546\n",
      "Epoch 71/100\n",
      "798/798 [==============================] - 0s 276us/step - loss: 0.1092 - acc: 0.8647\n",
      "Epoch 72/100\n",
      "798/798 [==============================] - 0s 163us/step - loss: 0.1064 - acc: 0.8634\n",
      "Epoch 73/100\n",
      "798/798 [==============================] - 0s 150us/step - loss: 0.1033 - acc: 0.8734\n",
      "Epoch 74/100\n",
      "798/798 [==============================] - 0s 175us/step - loss: 0.1022 - acc: 0.8734\n",
      "Epoch 75/100\n",
      "798/798 [==============================] - 0s 238us/step - loss: 0.1057 - acc: 0.8672\n",
      "Epoch 76/100\n",
      "798/798 [==============================] - 0s 175us/step - loss: 0.1011 - acc: 0.8772\n",
      "Epoch 77/100\n",
      "798/798 [==============================] - 0s 188us/step - loss: 0.1016 - acc: 0.8672\n",
      "Epoch 78/100\n",
      "798/798 [==============================] - 0s 175us/step - loss: 0.1017 - acc: 0.8747\n",
      "Epoch 79/100\n",
      "798/798 [==============================] - 0s 163us/step - loss: 0.0991 - acc: 0.8734\n",
      "Epoch 80/100\n",
      "798/798 [==============================] - 0s 150us/step - loss: 0.1010 - acc: 0.8697\n",
      "Epoch 81/100\n",
      "798/798 [==============================] - 0s 175us/step - loss: 0.1025 - acc: 0.8647\n",
      "Epoch 82/100\n",
      "798/798 [==============================] - 0s 175us/step - loss: 0.1054 - acc: 0.8659\n",
      "Epoch 83/100\n"
     ]
    },
    {
     "name": "stdout",
     "output_type": "stream",
     "text": [
      "798/798 [==============================] - 0s 163us/step - loss: 0.1088 - acc: 0.8659\n",
      "Epoch 84/100\n",
      "798/798 [==============================] - 0s 163us/step - loss: 0.1070 - acc: 0.8659\n",
      "Epoch 85/100\n",
      "798/798 [==============================] - 0s 163us/step - loss: 0.1072 - acc: 0.8622\n",
      "Epoch 86/100\n",
      "798/798 [==============================] - 0s 175us/step - loss: 0.1046 - acc: 0.8622\n",
      "Epoch 87/100\n",
      "798/798 [==============================] - 0s 163us/step - loss: 0.1051 - acc: 0.8709\n",
      "Epoch 88/100\n",
      "798/798 [==============================] - 0s 163us/step - loss: 0.1051 - acc: 0.8634\n",
      "Epoch 89/100\n",
      "798/798 [==============================] - 0s 201us/step - loss: 0.1019 - acc: 0.8709\n",
      "Epoch 90/100\n",
      "798/798 [==============================] - 0s 163us/step - loss: 0.1023 - acc: 0.8684\n",
      "Epoch 91/100\n",
      "798/798 [==============================] - 0s 163us/step - loss: 0.0989 - acc: 0.8734\n",
      "Epoch 92/100\n",
      "798/798 [==============================] - 0s 175us/step - loss: 0.1023 - acc: 0.8722\n",
      "Epoch 93/100\n",
      "798/798 [==============================] - 0s 150us/step - loss: 0.0969 - acc: 0.8747\n",
      "Epoch 94/100\n",
      "798/798 [==============================] - 0s 150us/step - loss: 0.0933 - acc: 0.8797\n",
      "Epoch 95/100\n",
      "798/798 [==============================] - 0s 150us/step - loss: 0.1090 - acc: 0.8571\n",
      "Epoch 96/100\n",
      "798/798 [==============================] - 0s 175us/step - loss: 0.1017 - acc: 0.8759\n",
      "Epoch 97/100\n",
      "798/798 [==============================] - 0s 175us/step - loss: 0.1069 - acc: 0.8596\n",
      "Epoch 98/100\n",
      "798/798 [==============================] - 0s 175us/step - loss: 0.1097 - acc: 0.8496\n",
      "Epoch 99/100\n",
      "798/798 [==============================] - 0s 226us/step - loss: 0.1093 - acc: 0.8559\n",
      "Epoch 100/100\n",
      "798/798 [==============================] - 0s 326us/step - loss: 0.1171 - acc: 0.8484\n"
     ]
    },
    {
     "data": {
      "text/plain": [
       "<keras.callbacks.History at 0x1425e048>"
      ]
     },
     "execution_count": 467,
     "metadata": {},
     "output_type": "execute_result"
    }
   ],
   "source": [
    "model2.fit(X_train, y_train, epochs=100, batch_size=10)"
   ]
  },
  {
   "cell_type": "code",
   "execution_count": 480,
   "metadata": {},
   "outputs": [
    {
     "name": "stdout",
     "output_type": "stream",
     "text": [
      "91/91 [==============================] - 0s 110us/step\n",
      "\n",
      "acc: 81.32%\n"
     ]
    }
   ],
   "source": [
    "scores = model2.evaluate(X_test, y_test)\n",
    "print(\"\\n%s: %.2f%%\" % (model2.metrics_names[1], scores[1]*100))"
   ]
  },
  {
   "cell_type": "code",
   "execution_count": 441,
   "metadata": {},
   "outputs": [],
   "source": [
    "from sklearn.ensemble import RandomForestClassifier"
   ]
  },
  {
   "cell_type": "code",
   "execution_count": 442,
   "metadata": {},
   "outputs": [
    {
     "name": "stderr",
     "output_type": "stream",
     "text": [
      "D:\\Anaconda\\lib\\site-packages\\sklearn\\ensemble\\forest.py:248: FutureWarning: The default value of n_estimators will change from 10 in version 0.20 to 100 in 0.22.\n",
      "  \"10 in version 0.20 to 100 in 0.22.\", FutureWarning)\n"
     ]
    }
   ],
   "source": [
    "model3 = RandomForestClassifier().fit(X_train, y_train)"
   ]
  },
  {
   "cell_type": "code",
   "execution_count": 443,
   "metadata": {},
   "outputs": [
    {
     "name": "stdout",
     "output_type": "stream",
     "text": [
      "RandomForestClassifier\n",
      "Train R^2 score: 0.9624060150375939\n",
      "Test R^2 score: 0.8791208791208791\n"
     ]
    }
   ],
   "source": [
    "print(\"RandomForestClassifier\\nTrain R^2 score: {}\".format(model3.score(X_train, y_train)))\n",
    "print(\"Test R^2 score: {}\".format(model3.score(X_test, y_test)))"
   ]
  }
 ],
 "metadata": {
  "kernelspec": {
   "display_name": "Python 3",
   "language": "python",
   "name": "python3"
  },
  "language_info": {
   "codemirror_mode": {
    "name": "ipython",
    "version": 3
   },
   "file_extension": ".py",
   "mimetype": "text/x-python",
   "name": "python",
   "nbconvert_exporter": "python",
   "pygments_lexer": "ipython3",
   "version": "3.6.7"
  }
 },
 "nbformat": 4,
 "nbformat_minor": 2
}
