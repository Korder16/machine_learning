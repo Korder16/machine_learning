{
 "cells": [
  {
   "cell_type": "code",
   "execution_count": 1,
   "metadata": {},
   "outputs": [],
   "source": [
    "import numpy as np\n",
    "import pandas as pd\n",
    "import matplotlib.pyplot as plt"
   ]
  },
  {
   "cell_type": "code",
   "execution_count": 2,
   "metadata": {},
   "outputs": [],
   "source": [
    "df_train = pd.read_csv('boston_train.csv')\n",
    "df_test = pd.read_csv('boston_test.csv')"
   ]
  },
  {
   "cell_type": "code",
   "execution_count": 5,
   "metadata": {},
   "outputs": [],
   "source": [
    "X_train = df_train.drop(['medv'], axis=1).values\n",
    "y_train = df_train['medv'].values\n",
    "\n",
    "# test\n",
    "X_test = df_test.drop(['medv'], axis=1).values\n",
    "y_test = df_test['medv'].values"
   ]
  },
  {
   "cell_type": "markdown",
   "metadata": {},
   "source": [
    "Создание и тренировка модели"
   ]
  },
  {
   "cell_type": "code",
   "execution_count": 78,
   "metadata": {},
   "outputs": [],
   "source": [
    "from sklearn import linear_model as lm"
   ]
  },
  {
   "cell_type": "code",
   "execution_count": 80,
   "metadata": {},
   "outputs": [
    {
     "name": "stderr",
     "output_type": "stream",
     "text": [
      "c:\\users\\islam\\appdata\\local\\programs\\python\\python37-32\\lib\\site-packages\\sklearn\\model_selection\\_split.py:1943: FutureWarning: You should specify a value for 'cv' instead of relying on the default value. The default value will change from 3 to 5 in version 0.22.\n",
      "  warnings.warn(CV_WARNING, FutureWarning)\n"
     ]
    }
   ],
   "source": [
    "model = lm.LinearRegression().fit(X_train, y_train)\n",
    "\n",
    "model2 = lm.Ridge().fit(X_train, y_train)\n",
    "\n",
    "model3 = lm.ElasticNet().fit(X_train, y_train)\n",
    "\n",
    "model4 = lm.HuberRegressor().fit(X_train, y_train)\n",
    "\n",
    "model5 = lm.Lasso(alpha=0.001, max_iter=10000).fit(X_train, y_train)\n",
    "\n",
    "model6 = lm.LassoCV().fit(X_train, y_train)\n",
    "\n",
    "model7 = lm.Lars().fit(X_train, y_train)\n",
    "\n",
    "model8 = lm.LassoLars().fit(X_train, y_train)\n",
    "\n",
    "model9 = lm.OrthogonalMatchingPursuit().fit(X_train, y_train)\n",
    "\n",
    "model10 = lm.BayesianRidge().fit(X_train, y_train)\n",
    "\n",
    "model11 = lm.SGDRegressor(max_iter=10000).fit(X_train, y_train)"
   ]
  },
  {
   "cell_type": "markdown",
   "metadata": {},
   "source": [
    "Оценка модели"
   ]
  },
  {
   "cell_type": "code",
   "execution_count": 81,
   "metadata": {},
   "outputs": [
    {
     "name": "stdout",
     "output_type": "stream",
     "text": [
      "Linear Regression:\n",
      "Train: 0.735432432911575\n",
      "Test: 0.7247284230252533\n",
      "\n",
      "Ridge:\n",
      "Train: 0.7324606075666303\n",
      "Test: 0.7395452711461608\n",
      "\n",
      "ElacticNet:\n",
      "Train: 0.6746466076856825\n",
      "Test: 0.6663799443989155\n",
      "\n",
      "HuberRegressor:\n",
      "Train: 0.47730868292728856\n",
      "Test: 0.4726853010624267\n",
      "\n",
      "Lasso:\n",
      "Train: 0.7354280457904312\n",
      "Test: 0.7254639286651725\n",
      "\n",
      "LassoCV:\n",
      "Train: 0.6881759400128449\n",
      "Test: 0.6989609618413837\n",
      "\n",
      "Lars:\n",
      "Train: 0.735432432911575\n",
      "Test: 0.724728423025251\n",
      "\n",
      "LassoLars:\n",
      "Train: 0.0\n",
      "Test: -0.0021893468919673698\n",
      "\n",
      "OrthogonalMatchingPursuit:\n",
      "Train: 0.5482767744247499\n",
      "Test: 0.5102013532565701\n",
      "\n",
      "BayesianRidge:\n",
      "Train: 0.7222707731729131\n",
      "Test: 0.7478092805630072\n",
      "\n",
      "SGDRegressor:\n",
      "Train: -8.02144831504694e+25\n",
      "Test: -8.563839748991839e+25\n"
     ]
    }
   ],
   "source": [
    "print(\"Linear Regression:\\nTrain: {}\".format(model.score(X_train, y_train)))\n",
    "print(\"Test: {}\".format(model.score(X_test, y_test)))\n",
    "\n",
    "print(\"\\nRidge:\\nTrain: {}\".format(model2.score(X_train, y_train)))\n",
    "print(\"Test: {}\".format(model2.score(X_test, y_test)))\n",
    "\n",
    "print(\"\\nElacticNet:\\nTrain: {}\".format(model3.score(X_train, y_train)))\n",
    "print(\"Test: {}\".format(model3.score(X_test, y_test)))\n",
    "\n",
    "print(\"\\nHuberRegressor:\\nTrain: {}\".format(model4.score(X_train, y_train)))\n",
    "print(\"Test: {}\".format(model4.score(X_test, y_test)))\n",
    "\n",
    "print(\"\\nLasso:\\nTrain: {}\".format(model5.score(X_train, y_train)))\n",
    "print(\"Test: {}\".format(model5.score(X_test, y_test)))\n",
    "\n",
    "print(\"\\nLassoCV:\\nTrain: {}\".format(model6.score(X_train, y_train)))\n",
    "print(\"Test: {}\".format(model6.score(X_test, y_test)))\n",
    "\n",
    "print(\"\\nLars:\\nTrain: {}\".format(model7.score(X_train, y_train)))\n",
    "print(\"Test: {}\".format(model7.score(X_test, y_test)))\n",
    "\n",
    "print(\"\\nLassoLars:\\nTrain: {}\".format(model8.score(X_train, y_train)))\n",
    "print(\"Test: {}\".format(model8.score(X_test, y_test)))\n",
    "\n",
    "print(\"\\nOrthogonalMatchingPursuit:\\nTrain: {}\".format(model9.score(X_train, y_train)))\n",
    "print(\"Test: {}\".format(model9.score(X_test, y_test)))\n",
    "\n",
    "print(\"\\nBayesianRidge:\\nTrain: {}\".format(model10.score(X_train, y_train)))\n",
    "print(\"Test: {}\".format(model10.score(X_test, y_test)))\n",
    "\n",
    "print(\"\\nSGDRegressor:\\nTrain: {}\".format(model11.score(X_train, y_train)))\n",
    "print(\"Test: {}\".format(model11.score(X_test, y_test)))\n"
   ]
  },
  {
   "cell_type": "code",
   "execution_count": null,
   "metadata": {},
   "outputs": [],
   "source": []
  }
 ],
 "metadata": {
  "kernelspec": {
   "display_name": "Python 3",
   "language": "python",
   "name": "python3"
  },
  "language_info": {
   "codemirror_mode": {
    "name": "ipython",
    "version": 3
   },
   "file_extension": ".py",
   "mimetype": "text/x-python",
   "name": "python",
   "nbconvert_exporter": "python",
   "pygments_lexer": "ipython3",
   "version": "3.7.0"
  }
 },
 "nbformat": 4,
 "nbformat_minor": 2
}
