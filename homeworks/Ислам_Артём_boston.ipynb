{
 "cells": [
  {
   "cell_type": "markdown",
   "metadata": {},
   "source": [
    "<h1>Домашнее задание №2</h1>\n",
    "<h2>Соревнование - Бостон</h2>\n",
    "\n",
    "<h3>Предобработка данных</h3>"
   ]
  },
  {
   "cell_type": "code",
   "execution_count": 1,
   "metadata": {},
   "outputs": [],
   "source": [
    "import numpy as np\n",
    "import pandas as pd\n",
    "import matplotlib.pyplot as plt\n",
    "import os"
   ]
  },
  {
   "cell_type": "code",
   "execution_count": 2,
   "metadata": {},
   "outputs": [],
   "source": [
    "DATA_DIR = \"\" # путь к данным"
   ]
  },
  {
   "cell_type": "code",
   "execution_count": 3,
   "metadata": {},
   "outputs": [],
   "source": [
    "#df_train = pd.read_csv(os.path.join(DATA_DIR, 'boston_train.csv'), index_col='ID') # прочитать данные из CSV \n",
    "#и указать колонку с индексом\n",
    "df_train = pd.read_csv('boston_train.csv', index_col='ID')\n",
    "df_train = df_train.sample(frac=1, random_state=42)\n",
    "\n",
    "#df_test = pd.read_csv(os.path.join(DATA_DIR, 'boston_test.csv'), index_col='ID') # прочитать данные из CSV \n",
    "#и указать колонку с индексом\n",
    "df_test = pd.read_csv('boston_test.csv', index_col='ID')\n",
    "df_test = df_test.sample(frac=1, random_state=42)"
   ]
  },
  {
   "cell_type": "code",
   "execution_count": 4,
   "metadata": {},
   "outputs": [],
   "source": [
    "X_train = df_train.drop(['medv'], axis=1).values\n",
    "y_train = df_train['medv'].values\n",
    "\n",
    "# test\n",
    "X_test = df_test.drop(['medv'], axis=1).values\n",
    "y_test = df_test['medv'].values"
   ]
  },
  {
   "cell_type": "markdown",
   "metadata": {},
   "source": [
    "<h2>Создание и тренировка модели</h2>"
   ]
  },
  {
   "cell_type": "code",
   "execution_count": 5,
   "metadata": {},
   "outputs": [],
   "source": [
    "from sklearn.ensemble import RandomForestRegressor"
   ]
  },
  {
   "cell_type": "code",
   "execution_count": 10,
   "metadata": {},
   "outputs": [
    {
     "name": "stderr",
     "output_type": "stream",
     "text": [
      "c:\\users\\islam\\appdata\\local\\programs\\python\\python37-32\\lib\\site-packages\\sklearn\\ensemble\\forest.py:248: FutureWarning: The default value of n_estimators will change from 10 in version 0.20 to 100 in 0.22.\n",
      "  \"10 in version 0.20 to 100 in 0.22.\", FutureWarning)\n"
     ]
    }
   ],
   "source": [
    "model = RandomForestRegressor().fit(X_train, y_train)"
   ]
  },
  {
   "cell_type": "markdown",
   "metadata": {},
   "source": [
    "<h2>Оценка модели</h2>"
   ]
  },
  {
   "cell_type": "code",
   "execution_count": 11,
   "metadata": {},
   "outputs": [
    {
     "name": "stdout",
     "output_type": "stream",
     "text": [
      "\n",
      "RandomForestRegressor:\n",
      "Train: 0.9804259128528525\n",
      "Test: 0.9068649123845107\n"
     ]
    }
   ],
   "source": [
    "print(\"\\nRandomForestRegressor:\\nTrain: {}\".format(model.score(X_train, y_train)))\n",
    "print(\"Test: {}\".format(model.score(X_test, y_test)))\n"
   ]
  },
  {
   "cell_type": "code",
   "execution_count": null,
   "metadata": {},
   "outputs": [],
   "source": []
  }
 ],
 "metadata": {
  "kernelspec": {
   "display_name": "Python 3",
   "language": "python",
   "name": "python3"
  },
  "language_info": {
   "codemirror_mode": {
    "name": "ipython",
    "version": 3
   },
   "file_extension": ".py",
   "mimetype": "text/x-python",
   "name": "python",
   "nbconvert_exporter": "python",
   "pygments_lexer": "ipython3",
   "version": "3.7.0"
  }
 },
 "nbformat": 4,
 "nbformat_minor": 2
}
